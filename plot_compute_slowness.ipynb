{
 "cells": [
  {
   "cell_type": "code",
   "execution_count": 1,
   "id": "pharmaceutical-working",
   "metadata": {},
   "outputs": [],
   "source": [
    "import numpy as np\n",
    "import matplotlib.pyplot as plt\n",
    "from scipy.optimize import curve_fit"
   ]
  },
  {
   "cell_type": "code",
   "execution_count": 7,
   "id": "ecf09661",
   "metadata": {},
   "outputs": [],
   "source": [
    "# function to extract the slowness parameter that provide a quantitative evaluation of the convergence rate\n",
    "def extract_slowness(test_data, fit_epochs = 100, ymin=92, ymax=100, ylim=True, in100=False, nclasses=10):\n",
    "    ### input parameters explained\n",
    "    # test_data = test curve obtained during training of the model\n",
    "    # fit_epochs = number of epochs on which we perform the fit --> advice is to use the epochs before the learning rate decay\n",
    "    # ymin and ymax = limits for the plot\n",
    "    # in100 = if True the test curve is in the range [0,100], if False it is in [0,1]\n",
    "    # nclasses = number of classes e.g. 10 for MNIST and CIFAR10, 100 for CIFAR100\n",
    "    \n",
    "    # prepare the data\n",
    "    if type(test_data) is not list:\n",
    "        test_data = list(test_data)\n",
    "    # add the chance level before the test accuracy --> needed for the fit\n",
    "    if in100:\n",
    "        test_data = [10]+test_data \n",
    "    else:\n",
    "        test_data = [0.1]+test_data\n",
    "    if nclasses == 100:\n",
    "        test_data[0] = test_data[0]/10 # the chance level is 0.01 or 1 if there are 100 classes (not 0.1 or 10)\n",
    "    \n",
    "    data_fit = test_data[0:fit_epochs] \n",
    "    data = data_fit[0:fit_epochs]\n",
    "    acc_max = np.max(data_fit)\n",
    "    # here perform the fit to extract the slowness data\n",
    "    [param,res] = curve_fit(lambda X,a: (acc_max * X)/(a + X), np.arange(0,np.shape(data)[0]), data_fit, p0=[0.5])\n",
    "    slowness = param[0]\n",
    "    \n",
    "    # plot the fitted curve and the actual test curve\n",
    "    x = np.arange(0,fit_epochs)\n",
    "    y = (acc_max * x)/(slowness + x)\n",
    "    if in100 == False:\n",
    "        data_fit = [i * 100 for i in data_fit]\n",
    "        y = y*100\n",
    "    plt.figure()\n",
    "    plt.plot(np.arange(1,len(data)+1),data_fit,label='test curve',ls='--',alpha = 1.0)\n",
    "    plt.plot(np.arange(1,fit_epochs+1),y,label='fit: s={}'.format(np.round(slowness,3)),ls='-',alpha = 1.0)\n",
    "    plt.xlabel('Training epochs', fontsize=14)\n",
    "    plt.ylabel('Accuracy [%]', fontsize=14)\n",
    "    plt.xticks(fontsize=14)\n",
    "    plt.yticks(fontsize=14)\n",
    "    if ylim is not None:\n",
    "        plt.ylim([ymin,ymax])\n",
    "\n",
    "    plt.legend()\n",
    "    print('accmax=',acc_max,'slowness=',slowness)"
   ]
  },
  {
   "cell_type": "code",
   "execution_count": null,
   "id": "3147ab7c",
   "metadata": {},
   "outputs": [],
   "source": [
    "# load your test curve\n",
    "curve = np.load ..."
   ]
  },
  {
   "cell_type": "code",
   "execution_count": 8,
   "id": "b1289864",
   "metadata": {},
   "outputs": [
    {
     "name": "stdout",
     "output_type": "stream",
     "text": [
      "accmax= 0.98643 slowness= 0.026016557401307188\n"
     ]
    },
    {
     "data": {
      "image/png": "[encoded data removed]",
      "text/plain": [
       "<Figure size 432x288 with 1 Axes>"
      ]
     },
     "metadata": {
      "needs_background": "light"
     },
     "output_type": "display_data"
    }
   ],
   "source": [
    "extract_slowness(np.mean(curve, axis=0), fit_epochs=60, ymin=90,ymax=99)"
   ]
  },
  {
   "cell_type": "code",
   "execution_count": null,
   "id": "8c15a8ff",
   "metadata": {},
   "outputs": [],
   "source": []
  },
  {
   "cell_type": "code",
   "execution_count": null,
   "id": "e0bc2aca",
   "metadata": {},
   "outputs": [],
   "source": []
  },
  {
   "cell_type": "code",
   "execution_count": null,
   "id": "e06965af",
   "metadata": {},
   "outputs": [],
   "source": []
  },
  {
   "cell_type": "code",
   "execution_count": null,
   "id": "gentle-egyptian",
   "metadata": {},
   "outputs": [],
   "source": []
  }
 ],
 "metadata": {
  "kernelspec": {
   "display_name": "Python 3 (ipykernel)",
   "language": "python",
   "name": "python3"
  },
  "language_info": {
   "codemirror_mode": {
    "name": "ipython",
    "version": 3
   },
   "file_extension": ".py",
   "mimetype": "text/x-python",
   "name": "python",
   "nbconvert_exporter": "python",
   "pygments_lexer": "ipython3",
   "version": "3.7.10"
  }
 },
 "nbformat": 4,
 "nbformat_minor": 5
}
